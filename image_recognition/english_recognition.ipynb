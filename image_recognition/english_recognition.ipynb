{
 "cells": [
  {
   "cell_type": "code",
   "execution_count": 1,
   "id": "79431056",
   "metadata": {},
   "outputs": [],
   "source": [
    "# Install required libraries:\n",
    "# pip install pillow pytesseract opencv-python\n",
    "\n",
    "from PIL import Image\n",
    "import pytesseract\n",
    "import cv2\n",
    "import numpy as np"
   ]
  },
  {
   "cell_type": "code",
   "execution_count": 2,
   "id": "e2ef9336",
   "metadata": {},
   "outputs": [],
   "source": [
    "def ocr_image(path, preprocess=True):\n",
    "    # Load image using OpenCV\n",
    "    img = cv2.imread(path)\n",
    "    if img is None:\n",
    "        raise FileNotFoundError(f\"Image not found: {path}\")\n",
    "\n",
    "    if preprocess:\n",
    "        gray = cv2.cvtColor(img, cv2.COLOR_BGR2GRAY)\n",
    "        blur = cv2.GaussianBlur(gray, (3, 3), 0)\n",
    "        thresh = cv2.threshold(blur, 0, 255,\n",
    "                               cv2.THRESH_BINARY + cv2.THRESH_OTSU)[1]\n",
    "        img_for_ocr = thresh\n",
    "    else:\n",
    "        img_for_ocr = img\n",
    "\n",
    "    # Convert to PIL format\n",
    "    pil_img = Image.fromarray(img_for_ocr)\n",
    "\n",
    "    # Extract text\n",
    "    text = pytesseract.image_to_string(pil_img, lang='eng', config='--psm 6')\n",
    "    return text"
   ]
  },
  {
   "cell_type": "code",
   "execution_count": 3,
   "id": "4daba676",
   "metadata": {},
   "outputs": [
    {
     "name": "stdout",
     "output_type": "stream",
     "text": [
      "MY NAME IS ANTKHOL\n",
      "TP LEKE CRICKET\n",
      "\n"
     ]
    }
   ],
   "source": [
    "\n",
    "image_path = 'english.jpg'\n",
    "text = ocr_image(image_path, preprocess=True)\n",
    "print(text)\n"
   ]
  },
  {
   "cell_type": "code",
   "execution_count": null,
   "id": "731749f2",
   "metadata": {},
   "outputs": [],
   "source": [
    "\n",
    "image_path = 'hindi.jpg'\n",
    "text = ocr_image(image_path, preprocess=True)\n",
    "print(text)\n"
   ]
  }
 ],
 "metadata": {
  "kernelspec": {
   "display_name": ".venv",
   "language": "python",
   "name": "python3"
  },
  "language_info": {
   "codemirror_mode": {
    "name": "ipython",
    "version": 3
   },
   "file_extension": ".py",
   "mimetype": "text/x-python",
   "name": "python",
   "nbconvert_exporter": "python",
   "pygments_lexer": "ipython3",
   "version": "3.13.3"
  }
 },
 "nbformat": 4,
 "nbformat_minor": 5
}
