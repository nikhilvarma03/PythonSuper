{
 "cells": [
  {
   "cell_type": "markdown",
   "id": "98d380b7",
   "metadata": {},
   "source": [
    "# Voice recognition\n",
    "### This is to recognise voice\n",
    "- install the libraires\n",
    "- create the audio file\n",
    "- import the libraires\n"
   ]
  },
  {
   "cell_type": "code",
   "execution_count": null,
   "id": "c3cdf24c",
   "metadata": {},
   "outputs": [],
   "source": [
    "# Convert 'test_voice.m4a' audio to text\n",
    "from pydub import AudioSegment\n",
    "import speech_recognition as sr\n",
    "\n",
    "# Convert m4a to wav (SpeechRecognition works best with wav)\n",
    "audio = AudioSegment.from_file('test_voice.m4a', format='m4a')\n",
    "audio.export('test_voice.wav', format='wav')\n",
    "\n",
    "# Initialize recognizer\n",
    "recognizer = sr.Recognizer()\n",
    "\n",
    "# Load the wav file\n",
    "with sr.AudioFile('test_voice.wav') as source:\n",
    "    audio_data = recognizer.record(source)\n",
    "    try:\n",
    "        # Recognize speech using Google Web Speech API\n",
    "        text = recognizer.recognize_google(audio_data)\n",
    "        print('Recognized text:')\n",
    "        print(text)\n",
    "    except sr.UnknownValueError:\n",
    "        print('Could not understand audio')\n",
    "    except sr.RequestError as e:\n",
    "        print(f'Could not request results; {e}')"
   ]
  }
 ],
 "metadata": {
  "kernelspec": {
   "display_name": ".venv",
   "language": "python",
   "name": "python3"
  },
  "language_info": {
   "name": "python",
   "version": "3.13.3"
  }
 },
 "nbformat": 4,
 "nbformat_minor": 5
}
